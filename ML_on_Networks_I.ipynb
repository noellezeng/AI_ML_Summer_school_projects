{
  "cells": [
    {
      "cell_type": "markdown",
      "metadata": {
        "id": "view-in-github",
        "colab_type": "text"
      },
      "source": [
        "<a href=\"https://colab.research.google.com/github/noellezeng/AI_ML_Summer_school_projects/blob/main/ML_on_Networks_I.ipynb\" target=\"_parent\"><img src=\"https://colab.research.google.com/assets/colab-badge.svg\" alt=\"Open In Colab\"/></a>"
      ]
    },
    {
      "cell_type": "code",
      "execution_count": 1,
      "metadata": {
        "id": "If7h21MsM1Mp"
      },
      "outputs": [],
      "source": [
        "# Import libraries \n",
        "\n",
        "import numpy as np\n",
        "import networkx as nx\n",
        "import matplotlib.pyplot as plt"
      ],
      "id": "If7h21MsM1Mp"
    },
    {
      "cell_type": "code",
      "source": [
        "from google.colab import drive\n",
        "drive.mount('/content/drive')\n",
        "\n"
      ],
      "metadata": {
        "colab": {
          "base_uri": "https://localhost:8080/"
        },
        "id": "eOFkkTSeo7hU",
        "outputId": "22b95abe-8923-4204-a892-f95416766653"
      },
      "id": "eOFkkTSeo7hU",
      "execution_count": 4,
      "outputs": [
        {
          "output_type": "stream",
          "name": "stdout",
          "text": [
            "Drive already mounted at /content/drive; to attempt to forcibly remount, call drive.mount(\"/content/drive\", force_remount=True).\n"
          ]
        }
      ]
    },
    {
      "cell_type": "code",
      "source": [
        "# Question 1 - Load graph \n",
        "\n",
        "G = nx.read_edgelist('/CA-GrQc.txt', comments='#')"
      ],
      "metadata": {
        "id": "9eIz5pMjo-Z0"
      },
      "id": "9eIz5pMjo-Z0",
      "execution_count": null,
      "outputs": []
    },
    {
      "cell_type": "code",
      "execution_count": null,
      "metadata": {
        "id": "xPtgcYx4M1Mv"
      },
      "outputs": [],
      "source": [
        "# Question 2 - Compute various characteristics of the network\n",
        "\n",
        "def compute_network_characteristics(graph):\n",
        "    # fill in \n",
        "    prop = {}\n",
        "    prop['N'] = graph.number_of_nodes() # number of nodes\n",
        "    prop['M'] = graph.number_of_edges() # number of edges\n",
        "    degrees = graph.degree()# degree list (from dictionnary (node, degree))\n",
        "    prop['min_degree'] = min(degrees) # minimum degree\n",
        "    prop['max_degree'] = max(degrees) # maximum degree\n",
        "    prop['mean_degree'] =  mean(degrees)# mean of node degrees\n",
        "    prop['median_degree'] = media # median of node degrees\n",
        "    prop['density'] =  # density of the graph\n",
        "    return prop\n",
        "\n",
        "\n",
        "prop = compute_network_characteristics(graph=G)\n",
        "\n",
        "print(\"Number of nodes: {}\".format(prop['N']))\n",
        "print(\"Number of edges: {}\".format(prop['M']))\n",
        "print(\"Min. degree: {}\".format(prop['min_degree']))\n",
        "print(\"Max. degree: {}\".format(prop['max_degree']))\n",
        "print(\"Mean degree: {}\".format(prop['mean_degree']))\n",
        "print(\"Median degree: {}\".format(prop['median_degree']))\n",
        "print(\"Density: {}\".format(prop['density']))"
      ],
      "id": "xPtgcYx4M1Mv"
    },
    {
      "cell_type": "code",
      "source": [],
      "metadata": {
        "id": "hyEymdmso6WX"
      },
      "id": "hyEymdmso6WX",
      "execution_count": null,
      "outputs": []
    },
    {
      "cell_type": "code",
      "execution_count": null,
      "metadata": {
        "id": "wAN8dFPaM1Mw",
        "outputId": "093616b0-5af3-4db8-abd2-72b7fda7af3f",
        "colab": {
          "base_uri": "https://localhost:8080/",
          "height": 545
        }
      },
      "outputs": [
        {
          "output_type": "display_data",
          "data": {
            "text/plain": [
              "<Figure size 432x288 with 1 Axes>"
            ],
            "image/png": "[encoded data removed]"
          },
          "metadata": {
            "needs_background": "light"
          }
        },
        {
          "output_type": "display_data",
          "data": {
            "text/plain": [
              "<Figure size 432x288 with 1 Axes>"
            ],
            "image/png": "[encoded data removed]"
          },
          "metadata": {
            "needs_background": "light"
          }
        }
      ],
      "source": [
        "# Question 3 - Degree distribution\n",
        "\n",
        "# Degree distribution\n",
        "y=nx.degree_histogram(G)\n",
        "plt.figure(1)\n",
        "plt.plot(y,'b-',marker='o')\n",
        "plt.ylabel(\"Frequency\")\n",
        "plt.xlabel(\"Degree\")\n",
        "plt.draw()\n",
        "plt.show()\n",
        "#f.savefig(\"degree.png\",format=\"png\")\n",
        "\n",
        "plt.figure(2)\n",
        "plt.loglog(y,'b-',marker='o')\n",
        "plt.ylabel(\"Frequency\")\n",
        "plt.xlabel(\"Degree\")\n",
        "plt.draw()\n",
        "plt.show()\n",
        "#s.savefig(\"degree_loglog.png\",format=\"png\")"
      ],
      "id": "wAN8dFPaM1Mw"
    },
    {
      "cell_type": "code",
      "execution_count": null,
      "metadata": {
        "id": "_aULwJZSM1Mw",
        "outputId": "6b027f18-9326-42e5-f587-93ee7393ff87",
        "colab": {
          "base_uri": "https://localhost:8080/"
        }
      },
      "outputs": [
        {
          "output_type": "stream",
          "name": "stdout",
          "text": [
            "The graph is not connected\n",
            "Number of connected components: 355\n",
            "Fraction of nodes in GCC: 0.793\n",
            "Fraction of edges in GCC: 0.926\n"
          ]
        }
      ],
      "source": [
        "# Question 4 - Connected components of the graph\n",
        "\n",
        "def get_gcc(graph):\n",
        "    # fill in the blanks\n",
        "    \n",
        "    # Is the given graph connected?\n",
        "    connected = nx.is_connected(G)# check if the graph is connected or not\n",
        "    if connected:\n",
        "        print(\"The graph is connected\")\n",
        "        return graph\n",
        "  \n",
        "    print(\"The graph is not connected\")\n",
        "    \n",
        "    # Find the number of connected components\n",
        "    num_of_cc = len(list(nx.connected_components(graph)))# number of cc\n",
        "    print(\"Number of connected components: {}\".format(num_of_cc))\n",
        "    \n",
        "    # Get the greatest connected component subgraph\n",
        "    gcc_nodes = max(nx.connected_components(graph),key=len) # node set of gcc\n",
        "    gcc = graph.subgraph(gcc_nodes)# create a subgraph of G from node set\n",
        "    node_fraction = gcc.number_of_nodes() / float(graph.number_of_nodes())\n",
        "    edge_fraction = gcc.number_of_edges() / float(graph.number_of_edges())\n",
        "    \n",
        "    print(\"Fraction of nodes in GCC: {:.3f}\".format(node_fraction))\n",
        "    print(\"Fraction of edges in GCC: {:.3f}\".format(edge_fraction))\n",
        "\n",
        "    return gcc\n",
        "\n",
        "\n",
        "gcc = get_gcc(graph=G)"
      ],
      "id": "_aULwJZSM1Mw"
    },
    {
      "cell_type": "code",
      "execution_count": null,
      "metadata": {
        "id": "C8uCaJkTM1Mx",
        "outputId": "8eea9a4a-231a-4571-e82d-833d930ec2f9",
        "colab": {
          "base_uri": "https://localhost:8080/"
        }
      },
      "outputs": [
        {
          "output_type": "stream",
          "name": "stdout",
          "text": [
            "Average clustering coefficient 0.529635811052136\n"
          ]
        }
      ],
      "source": [
        "# Question 5 - Average clustering coefficient\n",
        "\n",
        "avg_clust_coef = nx.average_clustering(G)# fill in \n",
        "print(\"Average clustering coefficient {}\".format(avg_clust_coef))"
      ],
      "id": "C8uCaJkTM1Mx"
    },
    {
      "cell_type": "code",
      "execution_count": null,
      "metadata": {
        "id": "typ5PqICM1My",
        "outputId": "d4e00317-8bb9-4532-ccc5-2fdab5c20af2",
        "colab": {
          "base_uri": "https://localhost:8080/",
          "height": 296
        }
      },
      "outputs": [
        {
          "output_type": "stream",
          "name": "stdout",
          "text": [
            "Pearson correlation coefficient (0.595544052125571, 0.0)\n"
          ]
        },
        {
          "output_type": "display_data",
          "data": {
            "text/plain": [
              "<Figure size 432x288 with 1 Axes>"
            ],
            "image/png": "[encoded data removed]"
          },
          "metadata": {
            "needs_background": "light"
          }
        }
      ],
      "source": [
        "# Question 6 - Centrality measures\n",
        "\n",
        "# Degree centrality\n",
        "deg_centrality = nx.degree_centrality(G)#\n",
        "\n",
        "# Eigenvector centrality\n",
        "eig_centrality =nx.eigenvector_centrality(G) #\n",
        "\n",
        "# Sort centrality values\n",
        "sorted_deg_centrality = sorted(deg_centrality.items())#\n",
        "sorted_eig_centrality = sorted(eig_centrality.items()) #\n",
        "\n",
        "# Extract centralities measures only\n",
        "deg_data= [b for a,b in sorted_deg_centrality]#\n",
        "eig_data= [b for a,b in sorted_eig_centrality]#\n",
        "\n",
        "# Compute Pearson correlation coefficient\n",
        "from scipy.stats.stats import pearsonr\n",
        "pr_coef = pearsonr(deg_data, eig_data)#\n",
        "print(\"Pearson correlation coefficient {}\".format(pr_coef))\n",
        "\n",
        "# Plot correlation between degree and eigenvector centrality\n",
        "plt.figure(4)\n",
        "plt.plot(deg_data, eig_data, 'ro')\n",
        "plt.xlabel('Degree centrality')\n",
        "plt.ylabel('Eigenvector centrality')\n",
        "plt.draw()\n",
        "plt.show()\n",
        "#plt.savefig(\"deg_eig_correlation.png\",format=\"png\")\n"
      ],
      "id": "typ5PqICM1My"
    },
    {
      "cell_type": "code",
      "execution_count": null,
      "metadata": {
        "id": "TX6Dq1XgM1Mz",
        "outputId": "4d817fe8-347f-4da8-ffee-e8693eb4d822",
        "colab": {
          "base_uri": "https://localhost:8080/",
          "height": 366
        }
      },
      "outputs": [
        {
          "output_type": "stream",
          "name": "stdout",
          "text": [
            "Min degree 0\n",
            "Max degree 199\n",
            "Median degree 25.0\n",
            "Mean degree 59.85\n"
          ]
        },
        {
          "output_type": "display_data",
          "data": {
            "text/plain": [
              "<Figure size 432x288 with 1 Axes>"
            ],
            "image/png": "[encoded data removed]"
          },
          "metadata": {
            "needs_background": "light"
          }
        },
        {
          "output_type": "stream",
          "name": "stdout",
          "text": [
            "Average clustering coefficient 0.09907120625997326\n"
          ]
        }
      ],
      "source": [
        "# Question 7 (OPTIONAL)\n",
        "# Generate a random graph with 200 nodes\n",
        "R = nx.fast_gnp_random_graph(200, 0.1)# \n",
        "\n",
        "degree_sequence_random = R.degree()#\n",
        "print(\"Min degree {}\".format(np.min(degree_sequence_random)))\n",
        "print(\"Max degree {}\".format(np.max(degree_sequence_random)))\n",
        "print(\"Median degree {}\".format(np.median(degree_sequence_random)))\n",
        "print(\"Mean degree {}\".format(np.mean(degree_sequence_random)))\n",
        "\n",
        "# Degree histogram\n",
        "r=nx.degree_histogram(R)\n",
        "plt.figure(5)\n",
        "plt.plot(r,'b-',marker='o')\n",
        "plt.ylabel(\"Frequency\")\n",
        "plt.xlabel(\"Degree\")\n",
        "plt.draw()\n",
        "plt.show()\n",
        "#plt.savefig(\"random_degree.png\",format=\"png\")\n",
        "\n",
        "# Average clustering coefficient - Random graph\n",
        "avg_clust_coef_R = nx.average_clustering(R)#\n",
        "print(\"Average clustering coefficient {}\".format(avg_clust_coef_R))"
      ],
      "id": "TX6Dq1XgM1Mz"
    },
    {
      "cell_type": "code",
      "source": [],
      "metadata": {
        "id": "p5zbb2laYF5g"
      },
      "id": "p5zbb2laYF5g",
      "execution_count": null,
      "outputs": []
    }
  ],
  "metadata": {
    "kernelspec": {
      "display_name": "Python 3",
      "language": "python",
      "name": "python3"
    },
    "language_info": {
      "codemirror_mode": {
        "name": "ipython",
        "version": 3
      },
      "file_extension": ".py",
      "mimetype": "text/x-python",
      "name": "python",
      "nbconvert_exporter": "python",
      "pygments_lexer": "ipython3",
      "version": "3.7.4"
    },
    "colab": {
      "provenance": [],
      "collapsed_sections": [],
      "include_colab_link": true
    }
  },
  "nbformat": 4,
  "nbformat_minor": 5
}